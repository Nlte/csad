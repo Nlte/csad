{
 "cells": [
  {
   "cell_type": "markdown",
   "metadata": {},
   "source": [
    "# Projet CSAD\n",
    "Vivien Letonnellier\n",
    "\n",
    "Louis Moubinous\n",
    "\n",
    "Nathanaël Leaute\n",
    "\n",
    "Alexandre Batisse"
   ]
  },
  {
   "cell_type": "code",
   "execution_count": null,
   "metadata": {
    "collapsed": true
   },
   "outputs": [],
   "source": [
    "import numpy as np\n",
    "#awk -F\",\"  'BEGIN {OFS=\",\"} { if ($2 == \"2\" || $3 == \"2\")  print }' SET1V_01.CSV > exo1_1_bs2.csv\n",
    "data = np.loadtxt('exo1_1_bs2.csv')"
   ]
  }
 ],
 "metadata": {
  "kernelspec": {
   "display_name": "Python 3",
   "language": "python",
   "name": "python3"
  },
  "language_info": {
   "codemirror_mode": {
    "name": "ipython",
    "version": 3
   },
   "file_extension": ".py",
   "mimetype": "text/x-python",
   "name": "python",
   "nbconvert_exporter": "python",
   "pygments_lexer": "ipython3",
   "version": "3.5.1"
  }
 },
 "nbformat": 4,
 "nbformat_minor": 1
}
