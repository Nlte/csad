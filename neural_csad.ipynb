{
 "cells": [
  {
   "cell_type": "markdown",
   "metadata": {},
   "source": [
    "# Neural CSAD"
   ]
  },
  {
   "cell_type": "code",
   "execution_count": 1,
   "metadata": {
    "collapsed": true
   },
   "outputs": [],
   "source": [
    "import pandas as pd\n",
    "import matplotlib.pyplot as plt\n",
    "import numpy as np\n",
    "plt.style.use('ggplot')\n",
    "%matplotlib inline"
   ]
  },
  {
   "cell_type": "code",
   "execution_count": 2,
   "metadata": {
    "collapsed": true
   },
   "outputs": [],
   "source": [
    "#Chargement des chunks en mémoires\n",
    "size = 10000\n",
    "df = pd.read_csv('./project_data/SET1V_01.CSV.gz', compression='gzip',names=['date','out_id', 'in_id', 'calls', 'duration'], parse_dates=['date'],sep=',', quotechar='\"', chunksize=size)"
   ]
  },
  {
   "cell_type": "code",
   "execution_count": 3,
   "metadata": {
    "collapsed": false
   },
   "outputs": [
    {
     "name": "stdout",
     "output_type": "stream",
     "text": [
      "           date  out_id  in_id  calls  duration\n",
      "0    2013-01-01       1      1      1        54\n",
      "1    2013-01-01       1      2      1        39\n",
      "2    2013-01-01       1     24      1      2957\n",
      "3    2013-01-01       1    186      1        56\n",
      "4    2013-01-01       2      2     22       418\n",
      "5    2013-01-01       2      3      2        53\n",
      "6    2013-01-01       2      4      4       455\n",
      "7    2013-01-01       2      5      8       386\n",
      "8    2013-01-01       2      6      7       204\n",
      "9    2013-01-01       2      8     13       314\n",
      "10   2013-01-01       2      9      2        60\n",
      "11   2013-01-01       2     10      6       229\n",
      "12   2013-01-01       2     11      2        27\n",
      "13   2013-01-01       2     12      5       156\n",
      "14   2013-01-01       2     13      3       101\n",
      "15   2013-01-01       2     14      1        36\n",
      "16   2013-01-01       2     15      2       454\n",
      "17   2013-01-01       2     16      6       252\n",
      "18   2013-01-01       2     19      3       140\n",
      "19   2013-01-01       2     22      3       192\n",
      "20   2013-01-01       2     24      1       162\n",
      "21   2013-01-01       2     25      1        19\n",
      "22   2013-01-01       2     27      5       547\n",
      "23   2013-01-01       2     28      1        56\n",
      "24   2013-01-01       2     29      1       142\n",
      "25   2013-01-01       2     30      3       302\n",
      "26   2013-01-01       2     31      5       213\n",
      "27   2013-01-01       2     32      1        50\n",
      "28   2013-01-01       2     33      2        95\n",
      "29   2013-01-01       2     35      1        63\n",
      "...         ...     ...    ...    ...       ...\n",
      "9970 2013-01-01      44    715      1       708\n",
      "9971 2013-01-01      44    748      1        91\n",
      "9972 2013-01-01      44    764      1        12\n",
      "9973 2013-01-01      44    771      1       122\n",
      "9974 2013-01-01      44    790      1         1\n",
      "9975 2013-01-01      44    795      1        52\n",
      "9976 2013-01-01      44    802      1       463\n",
      "9977 2013-01-01      44    809      1        30\n",
      "9978 2013-01-01      44    826      1       180\n",
      "9979 2013-01-01      44    868      1        18\n",
      "9980 2013-01-01      44    909      1        26\n",
      "9981 2013-01-01      44    929      1       104\n",
      "9982 2013-01-01      44    944      1       160\n",
      "9983 2013-01-01      44    998      2       115\n",
      "9984 2013-01-01      44   1008      3       288\n",
      "9985 2013-01-01      44   1010      2       123\n",
      "9986 2013-01-01      44   1011      1        20\n",
      "9987 2013-01-01      44   1017      1        58\n",
      "9988 2013-01-01      44   1019      2        86\n",
      "9989 2013-01-01      44   1022      1       175\n",
      "9990 2013-01-01      44   1028      2       212\n",
      "9991 2013-01-01      44   1030      1         9\n",
      "9992 2013-01-01      44   1033      1        57\n",
      "9993 2013-01-01      44   1041      2       279\n",
      "9994 2013-01-01      44   1042      2        97\n",
      "9995 2013-01-01      44   1054      1        93\n",
      "9996 2013-01-01      44   1055      1         2\n",
      "9997 2013-01-01      44   1057      2       245\n",
      "9998 2013-01-01      44   1062      1        61\n",
      "9999 2013-01-01      44   1094      1        26\n",
      "\n",
      "[10000 rows x 5 columns]\n"
     ]
    }
   ],
   "source": [
    "# parcourir les chunks (attention à la ram)\n",
    "for chunk in df:\n",
    "    print(chunk)\n",
    "    break"
   ]
  },
  {
   "cell_type": "code",
   "execution_count": null,
   "metadata": {
    "collapsed": true
   },
   "outputs": [],
   "source": []
  }
 ],
 "metadata": {
  "kernelspec": {
   "display_name": "Python 3",
   "language": "python",
   "name": "python3"
  },
  "language_info": {
   "codemirror_mode": {
    "name": "ipython",
    "version": 3
   },
   "file_extension": ".py",
   "mimetype": "text/x-python",
   "name": "python",
   "nbconvert_exporter": "python",
   "pygments_lexer": "ipython3",
   "version": "3.5.2"
  }
 },
 "nbformat": 4,
 "nbformat_minor": 1
}
